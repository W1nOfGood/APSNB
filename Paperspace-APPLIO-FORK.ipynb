{
 "cells": [
  {
   "cell_type": "markdown",
   "id": "c74f26b0-5235-4ee7-892c-a2b4715081fb",
   "metadata": {},
   "source": [
    "# SETUP\n",
    "## Applio Kaggle FORK Adapted to paperspace -.nww "
   ]
  },
  {
   "cell_type": "code",
   "execution_count": 1,
   "id": "53d8ecde-3ee5-4298-a9ac-40aa223f89da",
   "metadata": {
    "execution": {
     "iopub.execute_input": "2023-09-15T14:57:59.925914Z",
     "iopub.status.busy": "2023-09-15T14:57:59.925475Z",
     "iopub.status.idle": "2023-09-15T15:02:43.019028Z",
     "shell.execute_reply": "2023-09-15T15:02:43.017691Z",
     "shell.execute_reply.started": "2023-09-15T14:57:59.925876Z"
    }
   },
   "outputs": [
    {
     "name": "stdout",
     "output_type": "stream",
     "text": [
      "Installed Applio\n"
     ]
    }
   ],
   "source": [
    "import git\n",
    "from IPython.display import clear_output\n",
    "next_message = \"Step successfully completed, continuing to the next step\"\n",
    "message = \"Installed Applio\"\n",
    "\n",
    "!pip install gitpython\n",
    "git.Repo.clone_from('https://github.com/IAHispano/Applio-RVC-Fork.git', 'Applio-RVC-Fork')\n",
    "%cd /notebooks/Applio-RVC-Fork\n",
    "\n",
    "clear_output()\n",
    "print(next_message)\n",
    "\n",
    "!apt-get -y install build-essential python3-dev ffmpeg\n",
    "!apt -y install -qq aria2\n",
    "!apt-get update\n",
    "clear_output()\n",
    "\n",
    "!pip install --upgrade setuptools wheel pip gdown\n",
    "clear_output()\n",
    "\n",
    "!pip install faiss-gpu fairseq gradio ffmpeg ffmpeg-python praat-parselmouth pyworld numpy==1.23.5 numba==0.56.4 librosa==0.9.1 nltk\n",
    "clear_output()\n",
    "\n",
    "!pip install --upgrade lxml\n",
    "!pip install bark\n",
    "!pip install gdown\n",
    "clear_output()\n",
    "\n",
    "!wget https://raw.githubusercontent.com/IAHispano/Applio-Utilities-Kaggle/main/requirements2.txt\n",
    "!wget https://raw.githubusercontent.com/IAHispano/Applio-Utilities-Kaggle/main/requirements1.txt\n",
    "!pip install -r requirements1.txt\n",
    "!pip install -r requirements2.txt\n",
    "\n",
    "clear_output()\n",
    "print(next_message)\n",
    "\n",
    "!make basev1\n",
    "clear_output()\n",
    "\n",
    "!make basev2\n",
    "clear_output()\n",
    "\n",
    "!wget https://huggingface.co/lj1995/VoiceConversionWebUI/resolve/main/rmvpe.pt\n",
    "clear_output()\n",
    "\n",
    "clear_output()\n",
    "print(message)"
   ]
  },
  {
   "cell_type": "markdown",
   "id": "a886e3e5-499a-4615-bdaa-4cbfe820d24a",
   "metadata": {},
   "source": [
    "# RUN APPLIO GUI"
   ]
  },
  {
   "cell_type": "code",
   "execution_count": null,
   "id": "62957cc7-3ff5-4e62-92c4-e842af0b7990",
   "metadata": {
    "execution": {
     "iopub.execute_input": "2023-09-15T15:02:53.862910Z",
     "iopub.status.busy": "2023-09-15T15:02:53.861801Z"
    }
   },
   "outputs": [
    {
     "name": "stdout",
     "output_type": "stream",
     "text": [
      "/notebooks/Applio-RVC-Fork\n",
      "Using Language: en_US\n",
      "Running on local URL:  http://0.0.0.0:7865\n",
      "Running on public URL: https://0993383d3177be198e.gradio.live\n"
     ]
    }
   ],
   "source": [
    "%cd /notebooks/Applio-RVC-Fork\n",
    "!python infer-web.py --paperspace --pycmd python"
   ]
  }
 ],
 "metadata": {
  "kernelspec": {
   "display_name": "Python 3 (ipykernel)",
   "language": "python",
   "name": "python3"
  },
  "language_info": {
   "codemirror_mode": {
    "name": "ipython",
    "version": 3
   },
   "file_extension": ".py",
   "mimetype": "text/x-python",
   "name": "python",
   "nbconvert_exporter": "python",
   "pygments_lexer": "ipython3",
   "version": "3.9.16"
  }
 },
 "nbformat": 4,
 "nbformat_minor": 5
}
