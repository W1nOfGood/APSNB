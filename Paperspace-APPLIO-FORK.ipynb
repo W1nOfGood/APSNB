{
 "cells": [
  {
   "cell_type": "markdown",
   "id": "c74f26b0-5235-4ee7-892c-a2b4715081fb",
   "metadata": {},
   "source": [
    "# SETUP\n",
    "## Applio Kaggle FORK Adapted to paperspace -.nww "
   ]
  },
  {
   "cell_type": "code",
   "execution_count": 1,
   "id": "53d8ecde-3ee5-4298-a9ac-40aa223f89da",
   "metadata": {
    "execution": {
     "iopub.execute_input": "2023-09-15T15:27:32.731118Z",
     "iopub.status.busy": "2023-09-15T15:27:32.730340Z",
     "iopub.status.idle": "2023-09-15T15:33:42.182623Z",
     "shell.execute_reply": "2023-09-15T15:33:42.181508Z",
     "shell.execute_reply.started": "2023-09-15T15:27:32.731086Z"
    }
   },
   "outputs": [
    {
     "name": "stdout",
     "output_type": "stream",
     "text": [
      "Installed Applio\n"
     ]
    }
   ],
   "source": [
    "import git\n",
    "from IPython.display import clear_output\n",
    "next_message = \"Step successfully completed, continuing to the next step\"\n",
    "message = \"Installed Applio\"\n",
    "\n",
    "!pip install gitpython\n",
    "git.Repo.clone_from('https://github.com/IAHispano/Applio-RVC-Fork.git', 'Applio-RVC-Fork')\n",
    "%cd /notebooks/Applio-RVC-Fork\n",
    "\n",
    "clear_output()\n",
    "print(next_message)\n",
    "\n",
    "!apt-get -y install build-essential python3-dev ffmpeg\n",
    "!apt -y install -qq aria2\n",
    "!apt-get update\n",
    "clear_output()\n",
    "\n",
    "!pip install --upgrade setuptools wheel pip gdown\n",
    "clear_output()\n",
    "\n",
    "!pip install faiss-gpu fairseq gradio ffmpeg ffmpeg-python praat-parselmouth pyworld numpy==1.23.5 numba==0.56.4 librosa==0.9.1 nltk\n",
    "clear_output()\n",
    "\n",
    "!pip install --upgrade lxml\n",
    "!pip install bark\n",
    "!pip install gdown\n",
    "clear_output()\n",
    "\n",
    "!wget https://raw.githubusercontent.com/IAHispano/Applio-Utilities-Kaggle/main/requirements2.txt\n",
    "!wget https://raw.githubusercontent.com/IAHispano/Applio-Utilities-Kaggle/main/requirements1.txt\n",
    "!pip install -r requirements1.txt\n",
    "!pip install -r requirements2.txt\n",
    "\n",
    "clear_output()\n",
    "print(next_message)\n",
    "\n",
    "!make basev1\n",
    "clear_output()\n",
    "\n",
    "!make basev2\n",
    "clear_output()\n",
    "\n",
    "!wget https://huggingface.co/lj1995/VoiceConversionWebUI/resolve/main/rmvpe.pt\n",
    "clear_output()\n",
    "!wget https://huggingface.co/lj1995/VoiceConversionWebUI/resolve/main/hubert_base.pt\n",
    "\n",
    "clear_output()\n",
    "print(message)"
   ]
  },
  {
   "cell_type": "markdown",
   "id": "a886e3e5-499a-4615-bdaa-4cbfe820d24a",
   "metadata": {},
   "source": [
    "# RUN APPLIO GUI"
   ]
  },
  {
   "cell_type": "code",
   "execution_count": null,
   "id": "62957cc7-3ff5-4e62-92c4-e842af0b7990",
   "metadata": {
    "execution": {
     "iopub.execute_input": "2023-09-15T15:47:40.130657Z",
     "iopub.status.busy": "2023-09-15T15:47:40.130331Z"
    }
   },
   "outputs": [
    {
     "name": "stdout",
     "output_type": "stream",
     "text": [
      "/notebooks/Applio-RVC-Fork\n",
      "--2023-09-15 15:47:40--  https://huggingface.co/lj1995/VoiceConversionWebUI/resolve/main/hubert_base.pt\n",
      "Resolving huggingface.co (huggingface.co)... 18.238.49.112, 18.238.49.70, 18.238.49.10, ...\n",
      "Connecting to huggingface.co (huggingface.co)|18.238.49.112|:443... connected.\n",
      "HTTP request sent, awaiting response... 302 Found\n",
      "Location: https://cdn-lfs.huggingface.co/repos/ef/97/ef977053f017cde1fc0f89ac7ef0b33172a3d8fb8a840bb24e78b1c0f35f1e72/f54b40fd2802423a5643779c4861af1e9ee9c1564dc9d32f54f20b5ffba7db96?response-content-disposition=attachment%3B+filename*%3DUTF-8%27%27hubert_base.pt%3B+filename%3D%22hubert_base.pt%22%3B&Expires=1695048647&Policy=eyJTdGF0ZW1lbnQiOlt7IkNvbmRpdGlvbiI6eyJEYXRlTGVzc1RoYW4iOnsiQVdTOkVwb2NoVGltZSI6MTY5NTA0ODY0N319LCJSZXNvdXJjZSI6Imh0dHBzOi8vY2RuLWxmcy5odWdnaW5nZmFjZS5jby9yZXBvcy9lZi85Ny9lZjk3NzA1M2YwMTdjZGUxZmMwZjg5YWM3ZWYwYjMzMTcyYTNkOGZiOGE4NDBiYjI0ZTc4YjFjMGYzNWYxZTcyL2Y1NGI0MGZkMjgwMjQyM2E1NjQzNzc5YzQ4NjFhZjFlOWVlOWMxNTY0ZGM5ZDMyZjU0ZjIwYjVmZmJhN2RiOTY%7EcmVzcG9uc2UtY29udGVudC1kaXNwb3NpdGlvbj0qIn1dfQ__&Signature=wzOE35HoMUTMvAiAlTOGRQbijJYre0--UPVtRJqmDhGXQekrAA7YRbqownVeLBPrFkJ8DKPJS4pvCFoueyggHl0prchmx7cJ3e%7E-1oyPsyklkEERo5V9iwTRdpHL9q2nNs9R9YORs5zQWBjdnZgBcMkG9Up1S9vBahXQiAMcYNkPnj7wXADfF1g6J%7EmqFDUVzNvIIKClNJVVI7YduGvkT1GLlzXNy0wYH5S%7EUsNGLxwjqVFbfMtyn3J4Sj0RoBia8Erk3MM2rHE7VYaj-o1BLyItHyWpeSeZ9N-arCNyDExgPBFF2kbtC63Pwvwm-SXmbYQJ1P19ZK-3CsPTIovVQA__&Key-Pair-Id=KVTP0A1DKRTAX [following]\n",
      "--2023-09-15 15:47:45--  https://cdn-lfs.huggingface.co/repos/ef/97/ef977053f017cde1fc0f89ac7ef0b33172a3d8fb8a840bb24e78b1c0f35f1e72/f54b40fd2802423a5643779c4861af1e9ee9c1564dc9d32f54f20b5ffba7db96?response-content-disposition=attachment%3B+filename*%3DUTF-8%27%27hubert_base.pt%3B+filename%3D%22hubert_base.pt%22%3B&Expires=1695048647&Policy=eyJTdGF0ZW1lbnQiOlt7IkNvbmRpdGlvbiI6eyJEYXRlTGVzc1RoYW4iOnsiQVdTOkVwb2NoVGltZSI6MTY5NTA0ODY0N319LCJSZXNvdXJjZSI6Imh0dHBzOi8vY2RuLWxmcy5odWdnaW5nZmFjZS5jby9yZXBvcy9lZi85Ny9lZjk3NzA1M2YwMTdjZGUxZmMwZjg5YWM3ZWYwYjMzMTcyYTNkOGZiOGE4NDBiYjI0ZTc4YjFjMGYzNWYxZTcyL2Y1NGI0MGZkMjgwMjQyM2E1NjQzNzc5YzQ4NjFhZjFlOWVlOWMxNTY0ZGM5ZDMyZjU0ZjIwYjVmZmJhN2RiOTY%7EcmVzcG9uc2UtY29udGVudC1kaXNwb3NpdGlvbj0qIn1dfQ__&Signature=wzOE35HoMUTMvAiAlTOGRQbijJYre0--UPVtRJqmDhGXQekrAA7YRbqownVeLBPrFkJ8DKPJS4pvCFoueyggHl0prchmx7cJ3e%7E-1oyPsyklkEERo5V9iwTRdpHL9q2nNs9R9YORs5zQWBjdnZgBcMkG9Up1S9vBahXQiAMcYNkPnj7wXADfF1g6J%7EmqFDUVzNvIIKClNJVVI7YduGvkT1GLlzXNy0wYH5S%7EUsNGLxwjqVFbfMtyn3J4Sj0RoBia8Erk3MM2rHE7VYaj-o1BLyItHyWpeSeZ9N-arCNyDExgPBFF2kbtC63Pwvwm-SXmbYQJ1P19ZK-3CsPTIovVQA__&Key-Pair-Id=KVTP0A1DKRTAX\n",
      "Resolving cdn-lfs.huggingface.co (cdn-lfs.huggingface.co)... 18.164.116.15, 18.164.116.66, 18.164.116.106, ...\n",
      "Connecting to cdn-lfs.huggingface.co (cdn-lfs.huggingface.co)|18.164.116.15|:443... connected.\n",
      "HTTP request sent, awaiting response... 200 OK\n",
      "Length: 189507909 (181M) [binary/octet-stream]\n",
      "Saving to: ‘hubert_base.pt’\n",
      "\n",
      "hubert_base.pt      100%[===================>] 180.73M   374MB/s    in 0.5s    \n",
      "\n",
      "2023-09-15 15:47:46 (374 MB/s) - ‘hubert_base.pt’ saved [189507909/189507909]\n",
      "\n",
      "Using Language: en_US\n",
      "loading weights/Sana2.pth\n",
      "gin_channels: 256 self.spk_embed_dim: 109\n",
      "<All keys matched successfully>\n",
      "Running on local URL:  http://0.0.0.0:7865\n",
      "Running on public URL: https://d12d48667eface453a.gradio.live\n"
     ]
    }
   ],
   "source": [
    "%cd /notebooks/Applio-RVC-Fork\n",
    "!python infer-web.py --paperspace --pycmd python"
   ]
  }
 ],
 "metadata": {
  "kernelspec": {
   "display_name": "Python 3 (ipykernel)",
   "language": "python",
   "name": "python3"
  },
  "language_info": {
   "codemirror_mode": {
    "name": "ipython",
    "version": 3
   },
   "file_extension": ".py",
   "mimetype": "text/x-python",
   "name": "python",
   "nbconvert_exporter": "python",
   "pygments_lexer": "ipython3",
   "version": "3.9.16"
  }
 },
 "nbformat": 4,
 "nbformat_minor": 5
}
